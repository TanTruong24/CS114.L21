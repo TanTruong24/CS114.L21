{
  "nbformat": 4,
  "nbformat_minor": 0,
  "metadata": {
    "colab": {
      "name": "Run_Tim_Error.ipynb",
      "provenance": [],
      "collapsed_sections": [],
      "toc_visible": true,
      "include_colab_link": true
    },
    "kernelspec": {
      "name": "python3",
      "display_name": "Python 3"
    },
    "language_info": {
      "name": "python"
    }
  },
  "cells": [
    {
      "cell_type": "markdown",
      "metadata": {
        "id": "view-in-github",
        "colab_type": "text"
      },
      "source": [
        "<a href=\"https://colab.research.google.com/github/TanTruong24/CS114.L21/blob/main/Run_Tim_Error.ipynb\" target=\"_parent\"><img src=\"https://colab.research.google.com/assets/colab-badge.svg\" alt=\"Open In Colab\"/></a>"
      ]
    },
    {
      "cell_type": "markdown",
      "metadata": {
        "id": "JnuOuv78ei27"
      },
      "source": [
        "#**CS114.L21: MACHINE LEARNING**\n",
        "##**Colab_#2: Dự đoán thời gian chạy của chương trình với tập dữ liệu thời gian thực thi**\n"
      ]
    },
    {
      "cell_type": "markdown",
      "metadata": {
        "id": "YvUbzlCyefUf"
      },
      "source": [
        "**Nhóm thực hiện**\n",
        "- 19522246 - Vũ Nguyễn Nhật Thanh\n",
        "- 19522180 - Trương Thế Tấn\n",
        "- 19521551 - Nông Thanh Hồng"
      ]
    },
    {
      "cell_type": "markdown",
      "metadata": {
        "id": "7CNTRMyrcDkv"
      },
      "source": [
        "##**I. YÊU CẦU**\n",
        "\n",
        "- Từ dataset cho trước (data2.svc), hãy xây dựng model dự đoán thời gian thực thi của chương trình dựa vào kích thước dữ liệu đầu vào.\n",
        "- Kiểm tra model trên trên 2 dataset là data3.txt và data4.svc sao cho sai số của dự đoán là nhỏ nhất."
      ]
    },
    {
      "cell_type": "markdown",
      "metadata": {
        "id": "NyTGchWHcJhU"
      },
      "source": [
        "##**II. THAM KHẢO**\n",
        "\n",
        "1. [Data visualization](https://stackabuse.com/matplotlib-scatterplot-tutorial-and-examples/)\n",
        "2. [Linear Regression Example](https://scikit-learn.org/stable/auto_examples/linear_model/plot_ols)\n",
        "3. [Overfiting](https://machinelearningcoban.com/2017/03/04/overfitting/)"
      ]
    },
    {
      "cell_type": "markdown",
      "metadata": {
        "id": "pnENTeukcsvk"
      },
      "source": [
        "##**III. THỰC HIỆN**"
      ]
    },
    {
      "cell_type": "markdown",
      "metadata": {
        "id": "L5KrGZZacvh0"
      },
      "source": [
        "### **1.  Nhập tất cả thư viện yêu cầu**"
      ]
    },
    {
      "cell_type": "code",
      "metadata": {
        "id": "u8MNT-TBcwZK"
      },
      "source": [
        "# importing panda library\n",
        "import pandas as pd\n",
        "\n",
        "#  importing Matplotlib’s Pyplot module\n",
        "import matplotlib.pyplot as plt\n",
        "\n",
        "# importing numpy library\n",
        "import numpy as np\n",
        "\n",
        "# importing the LinearRegression class\n",
        "from sklearn.linear_model import LinearRegression, Lasso, Ridge\n",
        "\n",
        "from sklearn.metrics import mean_squared_error\n",
        "from sklearn.model_selection import train_test_split"
      ],
      "execution_count": null,
      "outputs": []
    },
    {
      "cell_type": "markdown",
      "metadata": {
        "id": "Dq58cEAWc0C1"
      },
      "source": [
        "###**2. Xử lý dữ liệu**"
      ]
    },
    {
      "cell_type": "markdown",
      "metadata": {
        "id": "PhZOor94c2m3"
      },
      "source": [
        "#### **2.1. Chuẩn bị dữ liệu .svc**"
      ]
    },
    {
      "cell_type": "markdown",
      "metadata": {
        "id": "jMIgw63Kc6O6"
      },
      "source": [
        "- Sử dụng thư viện pandas để đọc dữ liệu data2.txt, data3.txt và data4.txt sang định dạng file"
      ]
    },
    {
      "cell_type": "code",
      "metadata": {
        "id": "1D9v8LoDc8yd"
      },
      "source": [
        "#import pandas as pd\n",
        "\n",
        "# Xác định tên 2 cột \n",
        "col_names = ['Input size', 'Execution time']\n",
        "\n",
        "# data2 được sử dụng làm data để train model, data3 và data4 được sử dụng để test\n",
        "data_train = pd.read_csv(\"http://cs.uit.edu.vn/data2.txt\", names = col_names)\n",
        "data_test3 = pd.read_csv(\"http://cs.uit.edu.vn/data3.txt\", names = col_names)\n",
        "data_test4 = pd.read_csv(\"http://cs.uit.edu.vn/data4.txt\", names = col_names)\n",
        "\n",
        "# In ra 5 dòng đầu tiên của data_train.svc\n",
        "print(data_train.head())"
      ],
      "execution_count": null,
      "outputs": []
    },
    {
      "cell_type": "markdown",
      "metadata": {
        "id": "rZUkbCywc_UP"
      },
      "source": [
        "Sử dụng thư biện Matplotlib để thấy được dữ liệu data_train khi được trực quan hóa sẽ như thế nào.\n",
        "- Đưa vào hai đối số x (trục hoành) là Input size và y (trục tung) là Execution time"
      ]
    },
    {
      "cell_type": "code",
      "metadata": {
        "id": "ET9sY_OHdBww"
      },
      "source": [
        "#import matplotlib.pyplot as plt\n",
        "\n",
        "# sử dụng biểu đồ scatter để trực quan hóa dữ liệu\n",
        "fig, ax = plt.subplots(figsize=(10, 6))\n",
        "ax.scatter(x = data_train['Input size'], y = data_train['Execution time'], linewidths = 0.1)\n",
        "plt.xlabel(\"Input size\")\n",
        "plt.ylabel(\"Execution time\")\n",
        "\n",
        "plt.show()"
      ],
      "execution_count": null,
      "outputs": []
    },
    {
      "cell_type": "markdown",
      "metadata": {
        "id": "hXEMn0s4dEOO"
      },
      "source": [
        "- Nhóm cũng đặt tên các nhãn x và y để biểu thị cho các biến đại diện. \n",
        "- Có một mối tương quan thuận rõ ràng giữa hai biến này. Kích thước dữ liệu đầu vào càng lớn thì thời gian thực thi càng lớn."
      ]
    },
    {
      "cell_type": "markdown",
      "metadata": {
        "id": "noBl1E5UdLRV"
      },
      "source": [
        "####**2.2. Xác định giá trị biến X và Y**"
      ]
    },
    {
      "cell_type": "markdown",
      "metadata": {
        "id": "28wK1XI4dGiF"
      },
      "source": [
        "- Bước này là chia dữ liệu thành ***thuộc tính*** và ***nhãn***.\n",
        "  - **Thuộc tính**: là các biến độc lập \n",
        "  - **Nhãn**: là các biến phụ thuộc có giá trị được dự đoán.\n",
        " \n",
        "- Trong tập dữ liệu data2, data3 và data4 chỉ có hai cột. Chúng ta muốn dự đoán ***thời gian thực thi*** tùy thuộc vào ***kích thước dữ liệu đầu vào***. \n",
        "- Do đó, tập thuộc tính của chúng ta sẽ là cột **Kích thước dữ liệu đầu vào** và nhãn sẽ là cột **thời gian thực thi**.\n",
        "- Để trích xuất các thuộc tính và nhãn, thực thi tập lệnh sau:"
      ]
    },
    {
      "cell_type": "code",
      "metadata": {
        "id": "fLPYXB5hdNtm"
      },
      "source": [
        "# dữ liệu dùng train model\n",
        "X = np.array(data_train['Input size']).reshape(-1, 1)\n",
        "Y = np.array(data_train['Execution time'])\n",
        "\n",
        "# dữ liệu dùng để test model\n",
        "X_test_3 = np.array(data_test3['Input size']).reshape(-1, 1)\n",
        "Y_test_3 = np.array(data_test3['Execution time'])\n",
        "\n",
        "X_test_4 = np.array(data_test4['Input size']).reshape(-1, 1)\n",
        "Y_test_4 = np.array(data_test4['Execution time'])"
      ],
      "execution_count": null,
      "outputs": []
    },
    {
      "cell_type": "markdown",
      "metadata": {
        "id": "kDSjvvNBdP1A"
      },
      "source": [
        "###**2. Training**"
      ]
    },
    {
      "cell_type": "markdown",
      "metadata": {
        "id": "Y-elzJEPdR9y"
      },
      "source": [
        "####**2.1. Train model và predictions**"
      ]
    },
    {
      "cell_type": "markdown",
      "metadata": {
        "id": "zThgdP9DdUWl"
      },
      "source": [
        "#####**2.1.1. Chia dataset và Train model và dự đoán**"
      ]
    },
    {
      "cell_type": "code",
      "metadata": {
        "id": "T_MdtzJBdYj6"
      },
      "source": [
        "# Create linear regression object\n",
        "lr = LinearRegression()\n",
        "\n",
        "# Chia data2.svc thành 80% dữ liệu cho train model, 30% dữ liệu cho test\n",
        "X_train, X_test, Y_train, Y_test = train_test_split(X, Y, test_size=0.3, random_state=0)\n",
        "\n",
        "# Train the model using the training sets\n",
        "lr.fit(X_train, Y_train)\n",
        "\n",
        "# Make predictions using the X_test in X (data2)\n",
        "data_y_pred = lr.predict(X_test)"
      ],
      "execution_count": null,
      "outputs": []
    },
    {
      "cell_type": "code",
      "metadata": {
        "id": "OMdz3n5Wda48"
      },
      "source": [
        "#trực quan hóa dữ liệu dự đoán (X_test, Y_test) \n",
        "fig, axs = plt.subplots(figsize=(10, 6))\n",
        "axs.scatter(X_test, Y_test)\n",
        "axs.plot(X_test, data_y_pred, color='red', linewidth=2)\n",
        "axs.set(xlabel = 'Input size', ylabel= 'Execution time')\n",
        "\n",
        "# The mean squared error data2.svc or (X_test, Y_test)\n",
        "print('Mean squared error: ', mean_squared_error(Y_test, data_y_pred))"
      ],
      "execution_count": null,
      "outputs": []
    },
    {
      "cell_type": "markdown",
      "metadata": {
        "id": "dFToSywaddSc"
      },
      "source": [
        "- **Nhận xét:** trên tập dự liệu X_test và Y_test được chia ra từ data2.svc thì cho kết quả dự đoán tốt với MSE nhỏ 0.00014695461072091145"
      ]
    },
    {
      "cell_type": "markdown",
      "metadata": {
        "id": "LD_v7LNidfvQ"
      },
      "source": [
        "#####**2.1.2. Dự đoán với data3 và data4**"
      ]
    },
    {
      "cell_type": "markdown",
      "metadata": {
        "id": "TIaLyxmfdh3-"
      },
      "source": [
        "- Dự đoán với dataset data3.svc và data4.svc\n",
        "- Trực quan hóa dữ liệu kết quả dự đoán cho data3 và data4 từ model"
      ]
    },
    {
      "cell_type": "code",
      "metadata": {
        "id": "dAh3_rMfdkHb"
      },
      "source": [
        "# Make predictions using the X_test_3 in data_test3 (data3.svc)\n",
        "data_y_pred_3 = lr.predict(X_test_3)\n",
        "\n",
        "# Make predictions using the X_test_3 in data_test3 (data4.svc)\n",
        "data_y_pred_4 = lr.predict(X_test_4)\n",
        "\n",
        "\n",
        "fig, (ax1, ax2) = plt.subplots(1, 2, figsize=(20, 10))\n",
        "#trực quan hóa data3\n",
        "ax1.scatter(X_test_3, Y_test_3)\n",
        "ax1.plot(X_test_3, data_y_pred_3, color='red', linewidth=2)\n",
        "ax1.set(title = 'Dự đoán với data3.svc',xlabel = 'Input size', ylabel= 'Execution time')\n",
        "\n",
        "#trực quan hóa data4\n",
        "ax2.scatter(X_test_4, Y_test_4)\n",
        "ax2.plot(X_test_4, data_y_pred_4, color='red', linewidth=2)\n",
        "ax2.set(title = 'Dự đoán với data4.svc', xlabel = 'Input size', ylabel= 'Execution time')\n",
        "\n",
        "plt.show()\n"
      ],
      "execution_count": null,
      "outputs": []
    },
    {
      "cell_type": "markdown",
      "metadata": {
        "id": "fSQ4nGckdmsW"
      },
      "source": [
        "#####**2.2. Mean squared error**\n",
        "- Tính toán **Mean squared error** *(MSE)* của data3 và data4 sau khi đã có kết quả dự doán từ model cho hai tập dữ liệu này."
      ]
    },
    {
      "cell_type": "code",
      "metadata": {
        "id": "4m7MV2Qkdpfp"
      },
      "source": [
        "# The mean squared error data3.txt or (X_test_3, Y_test_3)\n",
        "print('Mean squared error: ', mean_squared_error(Y_test_3, data_y_pred_3))\n",
        "\n",
        "# The mean squared error data4.txt or (X_test_4, Y_test_4)\n",
        "print('Mean squared error: ', mean_squared_error(Y_test_4, data_y_pred_4))"
      ],
      "execution_count": null,
      "outputs": []
    },
    {
      "cell_type": "markdown",
      "metadata": {
        "id": "VSq4Eqi8dr1H"
      },
      "source": [
        "####**2.3. Nhận xét**\n",
        "\n",
        "- Mô hình bị overfiting khi áp dụng cho data3 và data4 cho kết quả khác nhau. Với data3 thì dự đoán chấp nhận được nhưng với data4 thì kết quả rất tệ và nhìn vào biểu đồ thì hầy như đường dự đoán lệnh hẳn so dữ liệu đúng.\n",
        "- Cần phải tiền xử lý dữ liệu tốt hơn."
      ]
    }
  ]
}